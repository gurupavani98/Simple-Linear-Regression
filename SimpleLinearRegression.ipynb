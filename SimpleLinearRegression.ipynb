{
 "cells": [
  {
   "cell_type": "code",
   "execution_count": 22,
   "id": "bfbf5c6f",
   "metadata": {},
   "outputs": [],
   "source": [
    "#import libraries\n",
    "import numpy as np\n",
    "import pandas as pd\n",
    "import matplotlib.pyplot as plt\n",
    "#! pip install seaborn\n",
    "import seaborn as sns\n",
    "import math\n",
    "%matplotlib inline"
   ]
  },
  {
   "cell_type": "code",
   "execution_count": 23,
   "id": "3dbaa73f",
   "metadata": {},
   "outputs": [
    {
     "data": {
      "text/html": [
       "<div>\n",
       "<style scoped>\n",
       "    .dataframe tbody tr th:only-of-type {\n",
       "        vertical-align: middle;\n",
       "    }\n",
       "\n",
       "    .dataframe tbody tr th {\n",
       "        vertical-align: top;\n",
       "    }\n",
       "\n",
       "    .dataframe thead th {\n",
       "        text-align: right;\n",
       "    }\n",
       "</style>\n",
       "<table border=\"1\" class=\"dataframe\">\n",
       "  <thead>\n",
       "    <tr style=\"text-align: right;\">\n",
       "      <th></th>\n",
       "      <th>PRICE</th>\n",
       "      <th>HEIGHT</th>\n",
       "      <th>WIDTH</th>\n",
       "      <th>SIGNED</th>\n",
       "      <th>PICTURE</th>\n",
       "      <th>HOUSE</th>\n",
       "    </tr>\n",
       "  </thead>\n",
       "  <tbody>\n",
       "    <tr>\n",
       "      <th>count</th>\n",
       "      <td>430.000000</td>\n",
       "      <td>430.000000</td>\n",
       "      <td>430.000000</td>\n",
       "      <td>430.000000</td>\n",
       "      <td>430.000000</td>\n",
       "      <td>430.000000</td>\n",
       "    </tr>\n",
       "    <tr>\n",
       "      <th>mean</th>\n",
       "      <td>3.089996</td>\n",
       "      <td>27.646977</td>\n",
       "      <td>32.111395</td>\n",
       "      <td>0.820930</td>\n",
       "      <td>182.644186</td>\n",
       "      <td>1.611628</td>\n",
       "    </tr>\n",
       "    <tr>\n",
       "      <th>std</th>\n",
       "      <td>4.311260</td>\n",
       "      <td>10.097013</td>\n",
       "      <td>10.459677</td>\n",
       "      <td>0.383857</td>\n",
       "      <td>109.091529</td>\n",
       "      <td>0.591592</td>\n",
       "    </tr>\n",
       "    <tr>\n",
       "      <th>min</th>\n",
       "      <td>0.010413</td>\n",
       "      <td>3.900000</td>\n",
       "      <td>6.700000</td>\n",
       "      <td>0.000000</td>\n",
       "      <td>1.000000</td>\n",
       "      <td>1.000000</td>\n",
       "    </tr>\n",
       "    <tr>\n",
       "      <th>25%</th>\n",
       "      <td>0.600153</td>\n",
       "      <td>23.125000</td>\n",
       "      <td>28.525000</td>\n",
       "      <td>1.000000</td>\n",
       "      <td>87.250000</td>\n",
       "      <td>1.000000</td>\n",
       "    </tr>\n",
       "    <tr>\n",
       "      <th>50%</th>\n",
       "      <td>1.312782</td>\n",
       "      <td>25.600000</td>\n",
       "      <td>31.900000</td>\n",
       "      <td>1.000000</td>\n",
       "      <td>179.500000</td>\n",
       "      <td>2.000000</td>\n",
       "    </tr>\n",
       "    <tr>\n",
       "      <th>75%</th>\n",
       "      <td>3.850000</td>\n",
       "      <td>31.450000</td>\n",
       "      <td>36.200000</td>\n",
       "      <td>1.000000</td>\n",
       "      <td>274.750000</td>\n",
       "      <td>2.000000</td>\n",
       "    </tr>\n",
       "    <tr>\n",
       "      <th>max</th>\n",
       "      <td>33.013504</td>\n",
       "      <td>78.700000</td>\n",
       "      <td>89.000000</td>\n",
       "      <td>1.000000</td>\n",
       "      <td>387.000000</td>\n",
       "      <td>3.000000</td>\n",
       "    </tr>\n",
       "  </tbody>\n",
       "</table>\n",
       "</div>"
      ],
      "text/plain": [
       "            PRICE      HEIGHT       WIDTH      SIGNED     PICTURE      HOUSE \n",
       "count  430.000000  430.000000  430.000000  430.000000  430.000000  430.000000\n",
       "mean     3.089996   27.646977   32.111395    0.820930  182.644186    1.611628\n",
       "std      4.311260   10.097013   10.459677    0.383857  109.091529    0.591592\n",
       "min      0.010413    3.900000    6.700000    0.000000    1.000000    1.000000\n",
       "25%      0.600153   23.125000   28.525000    1.000000   87.250000    1.000000\n",
       "50%      1.312782   25.600000   31.900000    1.000000  179.500000    2.000000\n",
       "75%      3.850000   31.450000   36.200000    1.000000  274.750000    2.000000\n",
       "max     33.013504   78.700000   89.000000    1.000000  387.000000    3.000000"
      ]
     },
     "execution_count": 23,
     "metadata": {},
     "output_type": "execute_result"
    }
   ],
   "source": [
    "#reading CSV file and describing the data\n",
    "train_data_monet=pd.read_csv(\"monet.csv\")\n",
    "train_data_monet\n",
    "train_data_monet.describe()"
   ]
  },
  {
   "cell_type": "code",
   "execution_count": 24,
   "id": "d9ca0370",
   "metadata": {
    "scrolled": true
   },
   "outputs": [
    {
     "name": "stderr",
     "output_type": "stream",
     "text": [
      "C:\\Users\\Nanda\\AppData\\Local\\Programs\\Python\\Python310\\lib\\site-packages\\seaborn\\_decorators.py:36: FutureWarning: Pass the following variables as keyword args: x, y. From version 0.12, the only valid positional argument will be `data`, and passing other arguments without an explicit keyword will result in an error or misinterpretation.\n",
      "  warnings.warn(\n"
     ]
    },
    {
     "data": {
      "image/png": "[encoded data removed]",
      "text/plain": [
       "<Figure size 432x288 with 1 Axes>"
      ]
     },
     "metadata": {
      "needs_background": "light"
     },
     "output_type": "display_data"
    },
    {
     "data": {
      "text/plain": [
       "<Figure size 320x320 with 0 Axes>"
      ]
     },
     "metadata": {},
     "output_type": "display_data"
    },
    {
     "name": "stderr",
     "output_type": "stream",
     "text": [
      "C:\\Users\\Nanda\\AppData\\Local\\Programs\\Python\\Python310\\lib\\site-packages\\seaborn\\_decorators.py:36: FutureWarning: Pass the following variables as keyword args: x, y. From version 0.12, the only valid positional argument will be `data`, and passing other arguments without an explicit keyword will result in an error or misinterpretation.\n",
      "  warnings.warn(\n"
     ]
    },
    {
     "data": {
      "image/png": "[encoded data removed]",
      "text/plain": [
       "<Figure size 432x288 with 1 Axes>"
      ]
     },
     "metadata": {
      "needs_background": "light"
     },
     "output_type": "display_data"
    },
    {
     "data": {
      "text/plain": [
       "<Figure size 320x320 with 0 Axes>"
      ]
     },
     "metadata": {},
     "output_type": "display_data"
    },
    {
     "name": "stderr",
     "output_type": "stream",
     "text": [
      "C:\\Users\\Nanda\\AppData\\Local\\Programs\\Python\\Python310\\lib\\site-packages\\seaborn\\_decorators.py:36: FutureWarning: Pass the following variables as keyword args: x, y. From version 0.12, the only valid positional argument will be `data`, and passing other arguments without an explicit keyword will result in an error or misinterpretation.\n",
      "  warnings.warn(\n"
     ]
    },
    {
     "data": {
      "image/png": "[encoded data removed]",
      "text/plain": [
       "<Figure size 432x288 with 1 Axes>"
      ]
     },
     "metadata": {
      "needs_background": "light"
     },
     "output_type": "display_data"
    },
    {
     "data": {
      "text/plain": [
       "<Figure size 320x320 with 0 Axes>"
      ]
     },
     "metadata": {},
     "output_type": "display_data"
    },
    {
     "name": "stderr",
     "output_type": "stream",
     "text": [
      "C:\\Users\\Nanda\\AppData\\Local\\Programs\\Python\\Python310\\lib\\site-packages\\seaborn\\_decorators.py:36: FutureWarning: Pass the following variables as keyword args: x, y. From version 0.12, the only valid positional argument will be `data`, and passing other arguments without an explicit keyword will result in an error or misinterpretation.\n",
      "  warnings.warn(\n"
     ]
    },
    {
     "data": {
      "image/png": "[encoded data removed]",
      "text/plain": [
       "<Figure size 432x288 with 1 Axes>"
      ]
     },
     "metadata": {
      "needs_background": "light"
     },
     "output_type": "display_data"
    },
    {
     "data": {
      "text/plain": [
       "<Figure size 320x320 with 0 Axes>"
      ]
     },
     "metadata": {},
     "output_type": "display_data"
    },
    {
     "name": "stderr",
     "output_type": "stream",
     "text": [
      "C:\\Users\\Nanda\\AppData\\Local\\Programs\\Python\\Python310\\lib\\site-packages\\seaborn\\_decorators.py:36: FutureWarning: Pass the following variables as keyword args: x, y. From version 0.12, the only valid positional argument will be `data`, and passing other arguments without an explicit keyword will result in an error or misinterpretation.\n",
      "  warnings.warn(\n"
     ]
    },
    {
     "data": {
      "image/png": "[encoded data removed]",
      "text/plain": [
       "<Figure size 432x288 with 1 Axes>"
      ]
     },
     "metadata": {
      "needs_background": "light"
     },
     "output_type": "display_data"
    },
    {
     "data": {
      "text/plain": [
       "<Figure size 320x320 with 0 Axes>"
      ]
     },
     "metadata": {},
     "output_type": "display_data"
    }
   ],
   "source": [
    "# Visualising the Scatter plots for all features with respect to Price\n",
    "x=train_data_monet.drop([\"PRICE\"], axis=1)\n",
    "y=train_data_monet.PRICE\n",
    "\n",
    "%matplotlib inline\n",
    "for col in x.columns:\n",
    "    sns.scatterplot(x[col], y)\n",
    "    plt.figure(figsize=(4, 4), dpi=80)\n",
    "    plt.show()\n",
    "    \n"
   ]
  },
  {
   "cell_type": "markdown",
   "id": "dea5ef14",
   "metadata": {},
   "source": [
    "**Task-1 SIMPLE LINEAR REGRESSION MODEL**"
   ]
  },
  {
   "cell_type": "markdown",
   "id": "24e64a05",
   "metadata": {},
   "source": [
    "**Model 1: HEIGHT Vs PRICE**"
   ]
  },
  {
   "cell_type": "code",
   "execution_count": 25,
   "id": "078e9d14",
   "metadata": {},
   "outputs": [
    {
     "data": {
      "text/plain": [
       "LinregressResult(slope=0.13432083933042452, intercept=-0.6235688584370997, rvalue=0.31458075982450173, pvalue=2.4808426368000058e-11, stderr=0.019591204445870654, intercept_stderr=0.5765501767376701)"
      ]
     },
     "execution_count": 25,
     "metadata": {},
     "output_type": "execute_result"
    }
   ],
   "source": [
    "#regression results without splitting the data\n",
    "a=train_data_monet.HEIGHT\n",
    "b=train_data_monet.PRICE\n",
    "\n",
    "import scipy.stats as st\n",
    "\n",
    "model = st.linregress(a,b)\n",
    "model"
   ]
  },
  {
   "cell_type": "code",
   "execution_count": 26,
   "id": "68e22b05",
   "metadata": {},
   "outputs": [
    {
     "name": "stderr",
     "output_type": "stream",
     "text": [
      "C:\\Users\\Nanda\\AppData\\Local\\Programs\\Python\\Python310\\lib\\site-packages\\seaborn\\_decorators.py:36: FutureWarning: Pass the following variables as keyword args: x, y. From version 0.12, the only valid positional argument will be `data`, and passing other arguments without an explicit keyword will result in an error or misinterpretation.\n",
      "  warnings.warn(\n"
     ]
    },
    {
     "data": {
      "text/plain": [
       "[<matplotlib.lines.Line2D at 0x2c3ed026bc0>]"
      ]
     },
     "execution_count": 26,
     "metadata": {},
     "output_type": "execute_result"
    },
    {
     "data": {
      "image/png": "[encoded data removed]",
      "text/plain": [
       "<Figure size 432x288 with 1 Axes>"
      ]
     },
     "metadata": {
      "needs_background": "light"
     },
     "output_type": "display_data"
    }
   ],
   "source": [
    "#plotting Height Vs Price scatterplot\n",
    "a=train_data_monet.HEIGHT\n",
    "b=train_data_monet.PRICE\n",
    "\n",
    "sns.scatterplot(a,b)\n",
    "m, c = np.polyfit(a,b, 1)\n",
    "plt.plot(a, m*a+c, color='green')"
   ]
  },
  {
   "cell_type": "code",
   "execution_count": 27,
   "id": "0860adb8",
   "metadata": {},
   "outputs": [
    {
     "name": "stderr",
     "output_type": "stream",
     "text": [
      "C:\\Users\\Nanda\\AppData\\Local\\Temp\\ipykernel_6840\\2862218602.py:2: FutureWarning: In a future version of pandas all arguments of DataFrame.drop except for the argument 'labels' will be keyword-only.\n",
      "  X = train_data_monet.drop(['PRICE','SIGNED','HOUSE ','PICTURE','WIDTH'],1)\n"
     ]
    }
   ],
   "source": [
    "#Classifying the features for train data\n",
    "X = train_data_monet.drop(['PRICE','SIGNED','HOUSE ','PICTURE','WIDTH'],1)\n",
    "y = train_data_monet.PRICE"
   ]
  },
  {
   "cell_type": "code",
   "execution_count": 28,
   "id": "e97d0cea",
   "metadata": {},
   "outputs": [],
   "source": [
    "# Splitting the dataset into the Training set and Test set\n",
    "from sklearn.model_selection import train_test_split \n",
    "X_train, X_test, y_train, y_test = train_test_split(X, y, test_size=1/3, random_state=0)\n"
   ]
  },
  {
   "cell_type": "code",
   "execution_count": 29,
   "id": "43f6ede9",
   "metadata": {},
   "outputs": [
    {
     "name": "stdout",
     "output_type": "stream",
     "text": [
      "[2.74231213 1.38017796 2.93019271 1.95556222 2.74231213 2.55443156\n",
      " 2.02601744 2.74231213 1.88510701 6.53515125 2.78928228 4.36278209\n",
      " 4.36278209 2.67185692 2.31958084 3.12981582 2.74231213 2.49571888\n",
      " 2.74231213 3.4820919  3.89308066 2.7657972  2.50746141 3.4820919\n",
      " 3.49383443 0.98093174 2.82450988 3.10633075 1.8498794  3.4820919\n",
      " 2.06124505 3.99876348 3.14155835 3.41163668 2.7305696  4.36278209\n",
      " 2.7305696  4.03399109 5.76014387 2.04950251 2.23738308 2.53094648\n",
      " 4.36278209 5.31392751 3.57603218 2.50746141 2.7305696  5.97150952\n",
      " 2.74231213 2.23738308 4.36278209 1.88510701 2.7305696  2.23738308\n",
      " 2.04950251 2.55443156 4.36278209 2.7657972  3.10633075 2.04950251\n",
      " 2.50746141 2.7657972  4.36278209 3.98702094 2.31958084 2.50746141\n",
      " 2.6014017  2.78928228 2.75405467 2.55443156 2.08473012 1.95556222\n",
      " 3.4820919  2.23738308 2.19041294 2.50746141 4.26884181 1.86162193\n",
      " 2.6014017  2.4370062  4.12793138 2.50746141 2.20215548 2.75405467\n",
      " 2.50746141 3.49383443 2.7305696  3.50557697 2.50746141 3.84611051\n",
      " 2.74231213 2.28435323 2.50746141 5.2786999  2.78928228 2.28435323\n",
      " 2.78928228 2.21389801 3.99876348 2.24912562 3.14155835 2.23738308\n",
      " 2.02601744 2.74231213 3.49383443 1.57980107 1.93207715 3.86959558\n",
      " 5.81885655 2.42526366 3.99876348 5.24347229 2.7657972  2.7305696\n",
      " 2.55443156 5.20824468 2.04950251 3.98702094 3.15330089 3.10633075\n",
      " 3.43512175 3.02413299 2.50746141 2.78928228 2.74231213 3.10633075\n",
      " 3.4820919  3.4820919  2.44874873 2.74231213 2.7305696  1.02790188\n",
      " 2.75405467 2.50746141 1.86162193 2.55443156 2.46049127 2.53094648\n",
      " 1.95556222 5.78362895 2.7305696  2.7657972  2.50746141 2.7305696 ]\n",
      "Regression line intercept= -0.2637770762013387\n"
     ]
    }
   ],
   "source": [
    "# Fitting Simple Linear Regression to the Training set\n",
    "from sklearn.linear_model import LinearRegression\n",
    "lreg = LinearRegression()\n",
    "lreg.fit(X_train, y_train)\n",
    "#predicting test and train data\n",
    "train_prediction=lreg.predict(X_train)\n",
    "price_prediction=lreg.predict(X_test)\n",
    "print(price_prediction)\n",
    "print(\"Regression line intercept=\",lreg.intercept_)"
   ]
  },
  {
   "cell_type": "code",
   "execution_count": 30,
   "id": "60d9282b",
   "metadata": {},
   "outputs": [
    {
     "data": {
      "image/png": "[encoded data removed]",
      "text/plain": [
       "<Figure size 432x288 with 1 Axes>"
      ]
     },
     "metadata": {
      "needs_background": "light"
     },
     "output_type": "display_data"
    },
    {
     "data": {
      "image/png": "[encoded data removed]",
      "text/plain": [
       "<Figure size 432x288 with 1 Axes>"
      ]
     },
     "metadata": {
      "needs_background": "light"
     },
     "output_type": "display_data"
    }
   ],
   "source": [
    "# Visualizing the Training set results\n",
    "traindata_view= plt\n",
    "traindata_view.scatter(X_train, y_train, color='red')\n",
    "traindata_view.plot(X_train, lreg.predict(X_train), color='blue')\n",
    "traindata_view.title('Height VS Price(Training set)')\n",
    "traindata_view.xlabel('Height')\n",
    "traindata_view.ylabel('Price')\n",
    "traindata_view.show()\n",
    "\n",
    "# Visualizing the Test set results\n",
    "testdata_view = plt\n",
    "testdata_view.scatter(X_test, y_test, color='red')\n",
    "testdata_view.plot(X_train, lreg.predict(X_train), color='blue')\n",
    "testdata_view.title('Height VS Price (Test set)')\n",
    "testdata_view.xlabel('Height')\n",
    "testdata_view.ylabel('Price')\n",
    "testdata_view.show()"
   ]
  },
  {
   "cell_type": "code",
   "execution_count": 31,
   "id": "5af30230",
   "metadata": {},
   "outputs": [
    {
     "name": "stdout",
     "output_type": "stream",
     "text": [
      "For Train data\n",
      "Mean Absolute Error:  2.565972039597058\n",
      "Mean Square Error: 16.710824682463528\n",
      "Root Mean Square Error: 4.087887557463332\n",
      " \n",
      "For Test data\n",
      "Mean Absolute Error:  2.59651818223108\n",
      "Mean Square Error: 16.825349691493834\n",
      "Root Mean Square Error: 4.101871486467346\n"
     ]
    }
   ],
   "source": [
    "#finding error values for prediction values of train data\n",
    "from sklearn import metrics\n",
    "print(\"For Train data\")\n",
    "print(\"Mean Absolute Error: \", metrics.mean_absolute_error(y_train,train_prediction))\n",
    "print(\"Mean Square Error:\", metrics.mean_squared_error(y_train,train_prediction))\n",
    "print(\"Root Mean Square Error:\", np.sqrt(metrics.mean_squared_error(y_train,train_prediction)))\n",
    "print(\" \")\n",
    "#finding error values for prediction values of test data\n",
    "print(\"For Test data\")\n",
    "print(\"Mean Absolute Error: \", metrics.mean_absolute_error(y_test,price_prediction))\n",
    "print(\"Mean Square Error:\", metrics.mean_squared_error(y_test,price_prediction))\n",
    "print(\"Root Mean Square Error:\", np.sqrt(metrics.mean_squared_error(y_test,price_prediction)))"
   ]
  },
  {
   "cell_type": "markdown",
   "id": "e8393bfe",
   "metadata": {},
   "source": [
    "**Model 2\n",
    "SIZE Vs PRICE**"
   ]
  },
  {
   "cell_type": "code",
   "execution_count": 32,
   "id": "3b5bd7e7",
   "metadata": {},
   "outputs": [
    {
     "data": {
      "text/html": [
       "<div>\n",
       "<style scoped>\n",
       "    .dataframe tbody tr th:only-of-type {\n",
       "        vertical-align: middle;\n",
       "    }\n",
       "\n",
       "    .dataframe tbody tr th {\n",
       "        vertical-align: top;\n",
       "    }\n",
       "\n",
       "    .dataframe thead th {\n",
       "        text-align: right;\n",
       "    }\n",
       "</style>\n",
       "<table border=\"1\" class=\"dataframe\">\n",
       "  <thead>\n",
       "    <tr style=\"text-align: right;\">\n",
       "      <th></th>\n",
       "      <th>PRICE</th>\n",
       "      <th>HEIGHT</th>\n",
       "      <th>WIDTH</th>\n",
       "      <th>SIGNED</th>\n",
       "      <th>PICTURE</th>\n",
       "      <th>HOUSE</th>\n",
       "      <th>SIZE</th>\n",
       "    </tr>\n",
       "  </thead>\n",
       "  <tbody>\n",
       "    <tr>\n",
       "      <th>0</th>\n",
       "      <td>3.993780</td>\n",
       "      <td>21.3</td>\n",
       "      <td>25.6</td>\n",
       "      <td>1</td>\n",
       "      <td>1</td>\n",
       "      <td>1</td>\n",
       "      <td>545.28</td>\n",
       "    </tr>\n",
       "    <tr>\n",
       "      <th>1</th>\n",
       "      <td>8.800000</td>\n",
       "      <td>31.9</td>\n",
       "      <td>25.6</td>\n",
       "      <td>1</td>\n",
       "      <td>2</td>\n",
       "      <td>2</td>\n",
       "      <td>816.64</td>\n",
       "    </tr>\n",
       "    <tr>\n",
       "      <th>2</th>\n",
       "      <td>0.131694</td>\n",
       "      <td>6.9</td>\n",
       "      <td>15.9</td>\n",
       "      <td>0</td>\n",
       "      <td>3</td>\n",
       "      <td>3</td>\n",
       "      <td>109.71</td>\n",
       "    </tr>\n",
       "    <tr>\n",
       "      <th>3</th>\n",
       "      <td>2.037500</td>\n",
       "      <td>25.7</td>\n",
       "      <td>32.0</td>\n",
       "      <td>1</td>\n",
       "      <td>4</td>\n",
       "      <td>2</td>\n",
       "      <td>822.40</td>\n",
       "    </tr>\n",
       "    <tr>\n",
       "      <th>4</th>\n",
       "      <td>1.487500</td>\n",
       "      <td>25.7</td>\n",
       "      <td>32.0</td>\n",
       "      <td>1</td>\n",
       "      <td>4</td>\n",
       "      <td>2</td>\n",
       "      <td>822.40</td>\n",
       "    </tr>\n",
       "    <tr>\n",
       "      <th>...</th>\n",
       "      <td>...</td>\n",
       "      <td>...</td>\n",
       "      <td>...</td>\n",
       "      <td>...</td>\n",
       "      <td>...</td>\n",
       "      <td>...</td>\n",
       "      <td>...</td>\n",
       "    </tr>\n",
       "    <tr>\n",
       "      <th>425</th>\n",
       "      <td>5.282500</td>\n",
       "      <td>25.6</td>\n",
       "      <td>39.4</td>\n",
       "      <td>1</td>\n",
       "      <td>375</td>\n",
       "      <td>1</td>\n",
       "      <td>1008.64</td>\n",
       "    </tr>\n",
       "    <tr>\n",
       "      <th>426</th>\n",
       "      <td>9.352500</td>\n",
       "      <td>25.9</td>\n",
       "      <td>39.6</td>\n",
       "      <td>1</td>\n",
       "      <td>375</td>\n",
       "      <td>2</td>\n",
       "      <td>1025.64</td>\n",
       "    </tr>\n",
       "    <tr>\n",
       "      <th>427</th>\n",
       "      <td>8.252500</td>\n",
       "      <td>25.6</td>\n",
       "      <td>39.6</td>\n",
       "      <td>1</td>\n",
       "      <td>375</td>\n",
       "      <td>1</td>\n",
       "      <td>1013.76</td>\n",
       "    </tr>\n",
       "    <tr>\n",
       "      <th>428</th>\n",
       "      <td>3.410000</td>\n",
       "      <td>25.6</td>\n",
       "      <td>39.4</td>\n",
       "      <td>1</td>\n",
       "      <td>386</td>\n",
       "      <td>2</td>\n",
       "      <td>1008.64</td>\n",
       "    </tr>\n",
       "    <tr>\n",
       "      <th>429</th>\n",
       "      <td>1.542500</td>\n",
       "      <td>25.7</td>\n",
       "      <td>32.0</td>\n",
       "      <td>1</td>\n",
       "      <td>387</td>\n",
       "      <td>1</td>\n",
       "      <td>822.40</td>\n",
       "    </tr>\n",
       "  </tbody>\n",
       "</table>\n",
       "<p>430 rows × 7 columns</p>\n",
       "</div>"
      ],
      "text/plain": [
       "        PRICE  HEIGHT  WIDTH  SIGNED  PICTURE  HOUSE      SIZE\n",
       "0    3.993780    21.3   25.6       1        1       1   545.28\n",
       "1    8.800000    31.9   25.6       1        2       2   816.64\n",
       "2    0.131694     6.9   15.9       0        3       3   109.71\n",
       "3    2.037500    25.7   32.0       1        4       2   822.40\n",
       "4    1.487500    25.7   32.0       1        4       2   822.40\n",
       "..        ...     ...    ...     ...      ...     ...      ...\n",
       "425  5.282500    25.6   39.4       1      375       1  1008.64\n",
       "426  9.352500    25.9   39.6       1      375       2  1025.64\n",
       "427  8.252500    25.6   39.6       1      375       1  1013.76\n",
       "428  3.410000    25.6   39.4       1      386       2  1008.64\n",
       "429  1.542500    25.7   32.0       1      387       1   822.40\n",
       "\n",
       "[430 rows x 7 columns]"
      ]
     },
     "execution_count": 32,
     "metadata": {},
     "output_type": "execute_result"
    }
   ],
   "source": [
    "#Creating Size feature\n",
    "train_data_monet['SIZE']=train_data_monet['HEIGHT']*train_data_monet['WIDTH']\n",
    "train_data_monet"
   ]
  },
  {
   "cell_type": "code",
   "execution_count": 33,
   "id": "45a7869c",
   "metadata": {},
   "outputs": [
    {
     "name": "stderr",
     "output_type": "stream",
     "text": [
      "C:\\Users\\Nanda\\AppData\\Local\\Programs\\Python\\Python310\\lib\\site-packages\\seaborn\\_decorators.py:36: FutureWarning: Pass the following variables as keyword args: x, y. From version 0.12, the only valid positional argument will be `data`, and passing other arguments without an explicit keyword will result in an error or misinterpretation.\n",
      "  warnings.warn(\n"
     ]
    },
    {
     "data": {
      "text/plain": [
       "[<matplotlib.lines.Line2D at 0x2c3ef2dcaf0>]"
      ]
     },
     "execution_count": 33,
     "metadata": {},
     "output_type": "execute_result"
    },
    {
     "data": {
      "image/png": "[encoded data removed]",
      "text/plain": [
       "<Figure size 432x288 with 1 Axes>"
      ]
     },
     "metadata": {
      "needs_background": "light"
     },
     "output_type": "display_data"
    }
   ],
   "source": [
    "#Plotting Size Vs Price Scatter plot\n",
    "a=train_data_monet.SIZE\n",
    "b=train_data_monet.PRICE\n",
    "\n",
    "sns.scatterplot(a,b)\n",
    "m, c = np.polyfit(a,b, 1)\n",
    "plt.plot(a, m*a+c, color='green')"
   ]
  },
  {
   "cell_type": "code",
   "execution_count": 34,
   "id": "e4cf54ff",
   "metadata": {},
   "outputs": [
    {
     "name": "stderr",
     "output_type": "stream",
     "text": [
      "C:\\Users\\Nanda\\AppData\\Local\\Temp\\ipykernel_6840\\3739603881.py:2: FutureWarning: In a future version of pandas all arguments of DataFrame.drop except for the argument 'labels' will be keyword-only.\n",
      "  X = train_data_monet.drop(['PRICE','SIGNED','HOUSE ','PICTURE','WIDTH','HEIGHT'],1)\n"
     ]
    }
   ],
   "source": [
    "#Splittin features for training data\n",
    "X = train_data_monet.drop(['PRICE','SIGNED','HOUSE ','PICTURE','WIDTH','HEIGHT'],1)\n",
    "#print(X)\n",
    "y = train_data_monet.PRICE\n",
    "from sklearn.model_selection import train_test_split \n",
    "X_train, X_test, y_train, y_test = train_test_split(X, y, test_size=0.2, random_state=100)"
   ]
  },
  {
   "cell_type": "code",
   "execution_count": 35,
   "id": "725e6d5a",
   "metadata": {},
   "outputs": [
    {
     "name": "stdout",
     "output_type": "stream",
     "text": [
      "[ 2.58855515  2.5627347   2.73385164  2.50547846  3.00504165  3.30533609\n",
      "  3.00644548  2.23672008  2.42074724  2.5252825   2.99862414  1.86071906\n",
      "  5.64915684  2.22586546  8.19360004  2.38948694  2.67769841  2.17916302\n",
      "  2.42626229  1.55829381  3.27994179  3.85165186  2.09282743  2.03963227\n",
      "  1.52447653  3.2152653   2.59472198  2.42626229  2.20794155  3.16427617\n",
      "  3.21386147  2.59271651  2.99594182  3.00644548  3.85165186  3.05377463\n",
      "  2.79183486  2.23975335  2.64084785  3.20398452  3.21178079  8.26098392\n",
      "  2.99862414  2.58639927  2.05675399  2.66541489  0.74098857  2.45168166\n",
      "  4.16751377  3.29433106  2.91108527 10.6806366   3.05447655  4.56700389\n",
      "  2.50748393  3.03993687  1.22859413  2.75465841  3.28713642  2.07141901\n",
      "  3.29809132  2.56652003  2.75160007  1.88378199  1.34481126  2.50748393\n",
      "  3.27994179  3.71104317  2.39843636  2.72267113  3.00644548  2.79376513\n",
      "  3.01145916  2.0660293   1.91699763  8.52756135  2.21862069  2.99862414\n",
      "  5.19441595  3.25116326  1.6681937   3.20398452 14.66322919  3.57033421\n",
      "  3.83610945  2.54293066]\n",
      "Regression line intercept= 0.6754848209796371\n"
     ]
    }
   ],
   "source": [
    "#performing Linear Regression\n",
    "from sklearn.linear_model import LinearRegression\n",
    "lreg = LinearRegression()\n",
    "lreg.fit(X_train, y_train)\n",
    "#predicting test and train data\n",
    "train_prediction=lreg.predict(X_train)\n",
    "price_prediction=lreg.predict(X_test)\n",
    "print(price_prediction)\n",
    "print(\"Regression line intercept=\",lreg.intercept_)"
   ]
  },
  {
   "cell_type": "code",
   "execution_count": 36,
   "id": "ee95ff97",
   "metadata": {},
   "outputs": [
    {
     "name": "stdout",
     "output_type": "stream",
     "text": [
      "Mean Absolute Error:  2.415087728856605\n",
      "Mean Square Error: 13.14348335252366\n",
      "Root Mean Square Error: 3.625394234083193\n"
     ]
    }
   ],
   "source": [
    "#Calculating errors for test data\n",
    "from sklearn import metrics\n",
    "print(\"Mean Absolute Error: \", metrics.mean_absolute_error(y_test,price_prediction))\n",
    "print(\"Mean Square Error:\", metrics.mean_squared_error(y_test,price_prediction))\n",
    "print(\"Root Mean Square Error:\", np.sqrt(metrics.mean_squared_error(y_test,price_prediction)))"
   ]
  },
  {
   "cell_type": "markdown",
   "id": "e1916757",
   "metadata": {},
   "source": [
    "**Multivariate Linear Regression Model**"
   ]
  },
  {
   "cell_type": "code",
   "execution_count": 37,
   "id": "b2204ce1",
   "metadata": {},
   "outputs": [
    {
     "name": "stdout",
     "output_type": "stream",
     "text": [
      "     SIGNED  PICTURE  HOUSE      SIZE\n",
      "0         1        1       1   545.28\n",
      "1         1        2       2   816.64\n",
      "2         0        3       3   109.71\n",
      "3         1        4       2   822.40\n",
      "4         1        4       2   822.40\n",
      "..      ...      ...     ...      ...\n",
      "425       1      375       1  1008.64\n",
      "426       1      375       2  1025.64\n",
      "427       1      375       1  1013.76\n",
      "428       1      386       2  1008.64\n",
      "429       1      387       1   822.40\n",
      "\n",
      "[430 rows x 4 columns]\n",
      "0      3.993780\n",
      "1      8.800000\n",
      "2      0.131694\n",
      "3      2.037500\n",
      "4      1.487500\n",
      "         ...   \n",
      "425    5.282500\n",
      "426    9.352500\n",
      "427    8.252500\n",
      "428    3.410000\n",
      "429    1.542500\n",
      "Name: PRICE, Length: 430, dtype: float64\n"
     ]
    }
   ],
   "source": [
    "#Splittig data\n",
    "X = train_data_monet.iloc[:, 3:]\n",
    "y = train_data_monet.iloc[:, 0]\n",
    "print(X)\n",
    "print(y)"
   ]
  },
  {
   "cell_type": "code",
   "execution_count": 38,
   "id": "b850ab4d",
   "metadata": {},
   "outputs": [],
   "source": [
    "#Normalisation\n",
    "X_train, X_test, y_train, y_test = train_test_split(X, y, test_size=0.2, random_state=0)\n",
    "from sklearn import preprocessing\n",
    "scaler = preprocessing.MinMaxScaler()\n",
    "scaler.fit(X_train)\n",
    "train_scaled_range = pd.DataFrame(scaler.transform(X_train))\n",
    "test_scaled_range = pd.DataFrame(scaler.transform(X_test))"
   ]
  },
  {
   "cell_type": "code",
   "execution_count": 39,
   "id": "9daeb713",
   "metadata": {},
   "outputs": [
    {
     "data": {
      "text/html": [
       "<div>\n",
       "<style scoped>\n",
       "    .dataframe tbody tr th:only-of-type {\n",
       "        vertical-align: middle;\n",
       "    }\n",
       "\n",
       "    .dataframe tbody tr th {\n",
       "        vertical-align: top;\n",
       "    }\n",
       "\n",
       "    .dataframe thead th {\n",
       "        text-align: right;\n",
       "    }\n",
       "</style>\n",
       "<table border=\"1\" class=\"dataframe\">\n",
       "  <thead>\n",
       "    <tr style=\"text-align: right;\">\n",
       "      <th></th>\n",
       "      <th>0</th>\n",
       "      <th>1</th>\n",
       "      <th>2</th>\n",
       "      <th>3</th>\n",
       "    </tr>\n",
       "  </thead>\n",
       "  <tbody>\n",
       "    <tr>\n",
       "      <th>count</th>\n",
       "      <td>344.000000</td>\n",
       "      <td>344.000000</td>\n",
       "      <td>344.000000</td>\n",
       "      <td>344.000000</td>\n",
       "    </tr>\n",
       "    <tr>\n",
       "      <th>mean</th>\n",
       "      <td>0.819767</td>\n",
       "      <td>0.476465</td>\n",
       "      <td>0.308140</td>\n",
       "      <td>0.146384</td>\n",
       "    </tr>\n",
       "    <tr>\n",
       "      <th>std</th>\n",
       "      <td>0.384941</td>\n",
       "      <td>0.282914</td>\n",
       "      <td>0.299841</td>\n",
       "      <td>0.107403</td>\n",
       "    </tr>\n",
       "    <tr>\n",
       "      <th>min</th>\n",
       "      <td>0.000000</td>\n",
       "      <td>0.000000</td>\n",
       "      <td>0.000000</td>\n",
       "      <td>0.000000</td>\n",
       "    </tr>\n",
       "    <tr>\n",
       "      <th>25%</th>\n",
       "      <td>1.000000</td>\n",
       "      <td>0.230519</td>\n",
       "      <td>0.000000</td>\n",
       "      <td>0.098590</td>\n",
       "    </tr>\n",
       "    <tr>\n",
       "      <th>50%</th>\n",
       "      <td>1.000000</td>\n",
       "      <td>0.467532</td>\n",
       "      <td>0.500000</td>\n",
       "      <td>0.128120</td>\n",
       "    </tr>\n",
       "    <tr>\n",
       "      <th>75%</th>\n",
       "      <td>1.000000</td>\n",
       "      <td>0.717532</td>\n",
       "      <td>0.500000</td>\n",
       "      <td>0.162598</td>\n",
       "    </tr>\n",
       "    <tr>\n",
       "      <th>max</th>\n",
       "      <td>1.000000</td>\n",
       "      <td>1.000000</td>\n",
       "      <td>1.000000</td>\n",
       "      <td>1.000000</td>\n",
       "    </tr>\n",
       "  </tbody>\n",
       "</table>\n",
       "</div>"
      ],
      "text/plain": [
       "                0           1           2           3\n",
       "count  344.000000  344.000000  344.000000  344.000000\n",
       "mean     0.819767    0.476465    0.308140    0.146384\n",
       "std      0.384941    0.282914    0.299841    0.107403\n",
       "min      0.000000    0.000000    0.000000    0.000000\n",
       "25%      1.000000    0.230519    0.000000    0.098590\n",
       "50%      1.000000    0.467532    0.500000    0.128120\n",
       "75%      1.000000    0.717532    0.500000    0.162598\n",
       "max      1.000000    1.000000    1.000000    1.000000"
      ]
     },
     "execution_count": 39,
     "metadata": {},
     "output_type": "execute_result"
    }
   ],
   "source": [
    "train_scaled_range.describe()"
   ]
  },
  {
   "cell_type": "code",
   "execution_count": 40,
   "id": "fb177fb1",
   "metadata": {},
   "outputs": [
    {
     "data": {
      "text/html": [
       "<div>\n",
       "<style scoped>\n",
       "    .dataframe tbody tr th:only-of-type {\n",
       "        vertical-align: middle;\n",
       "    }\n",
       "\n",
       "    .dataframe tbody tr th {\n",
       "        vertical-align: top;\n",
       "    }\n",
       "\n",
       "    .dataframe thead th {\n",
       "        text-align: right;\n",
       "    }\n",
       "</style>\n",
       "<table border=\"1\" class=\"dataframe\">\n",
       "  <thead>\n",
       "    <tr style=\"text-align: right;\">\n",
       "      <th></th>\n",
       "      <th>0</th>\n",
       "      <th>1</th>\n",
       "      <th>2</th>\n",
       "      <th>3</th>\n",
       "    </tr>\n",
       "  </thead>\n",
       "  <tbody>\n",
       "    <tr>\n",
       "      <th>count</th>\n",
       "      <td>86.000000</td>\n",
       "      <td>86.000000</td>\n",
       "      <td>86.000000</td>\n",
       "      <td>86.000000</td>\n",
       "    </tr>\n",
       "    <tr>\n",
       "      <th>mean</th>\n",
       "      <td>0.825581</td>\n",
       "      <td>0.453156</td>\n",
       "      <td>0.296512</td>\n",
       "      <td>0.155990</td>\n",
       "    </tr>\n",
       "    <tr>\n",
       "      <th>std</th>\n",
       "      <td>0.381695</td>\n",
       "      <td>0.286011</td>\n",
       "      <td>0.280524</td>\n",
       "      <td>0.118767</td>\n",
       "    </tr>\n",
       "    <tr>\n",
       "      <th>min</th>\n",
       "      <td>0.000000</td>\n",
       "      <td>0.002597</td>\n",
       "      <td>0.000000</td>\n",
       "      <td>0.027380</td>\n",
       "    </tr>\n",
       "    <tr>\n",
       "      <th>25%</th>\n",
       "      <td>1.000000</td>\n",
       "      <td>0.206494</td>\n",
       "      <td>0.000000</td>\n",
       "      <td>0.101711</td>\n",
       "    </tr>\n",
       "    <tr>\n",
       "      <th>50%</th>\n",
       "      <td>1.000000</td>\n",
       "      <td>0.425974</td>\n",
       "      <td>0.500000</td>\n",
       "      <td>0.129106</td>\n",
       "    </tr>\n",
       "    <tr>\n",
       "      <th>75%</th>\n",
       "      <td>1.000000</td>\n",
       "      <td>0.703896</td>\n",
       "      <td>0.500000</td>\n",
       "      <td>0.163837</td>\n",
       "    </tr>\n",
       "    <tr>\n",
       "      <th>max</th>\n",
       "      <td>1.000000</td>\n",
       "      <td>1.002597</td>\n",
       "      <td>1.000000</td>\n",
       "      <td>0.831280</td>\n",
       "    </tr>\n",
       "  </tbody>\n",
       "</table>\n",
       "</div>"
      ],
      "text/plain": [
       "               0          1          2          3\n",
       "count  86.000000  86.000000  86.000000  86.000000\n",
       "mean    0.825581   0.453156   0.296512   0.155990\n",
       "std     0.381695   0.286011   0.280524   0.118767\n",
       "min     0.000000   0.002597   0.000000   0.027380\n",
       "25%     1.000000   0.206494   0.000000   0.101711\n",
       "50%     1.000000   0.425974   0.500000   0.129106\n",
       "75%     1.000000   0.703896   0.500000   0.163837\n",
       "max     1.000000   1.002597   1.000000   0.831280"
      ]
     },
     "execution_count": 40,
     "metadata": {},
     "output_type": "execute_result"
    }
   ],
   "source": [
    "test_scaled_range.describe()"
   ]
  },
  {
   "cell_type": "code",
   "execution_count": 41,
   "id": "64842e32",
   "metadata": {},
   "outputs": [
    {
     "name": "stdout",
     "output_type": "stream",
     "text": [
      "Accuracy= 16.42573089148398 %\n",
      "[ 3.22076689  1.92754132  2.93806762  1.93775964  3.05523056  2.80093277\n",
      "  0.10316848  2.97468388 -0.39990482 13.90497251  2.47756957  5.41100907\n",
      "  4.65693699  3.4924594   2.76191325  3.98381713  3.25262187  2.60286503\n",
      "  3.12921412  3.91887414  4.88665529  3.63284637  2.77899543  2.74702618\n",
      "  3.4076096  -0.66956226  2.78576922  3.66585504  2.41448587  3.89836058\n",
      "  0.49732345  3.61926124  3.78282632  3.56165034  3.2177669   8.76214683\n",
      "  3.10305923  3.8915362   9.12231881  2.23104022  2.01204425  3.21291415\n",
      "  4.126748    3.14099513  2.54414237 -0.05058453  2.4798926   6.95658185\n",
      "  1.02550574  2.83549945  4.27741432  2.26079234  2.60807557  2.52450248\n",
      "  2.40880346  3.67128036  5.41100907  3.57570548  3.32444862  0.56463023\n",
      "  3.34887815  0.64080585  3.87509335  4.72698046  0.77186041  2.56320378\n",
      "  2.17915886  3.76243199  3.47510156  2.92373203  2.41125938  3.02468183\n",
      "  3.70318853  2.18481792  2.60671987  2.35649155  3.61792469  1.45056921\n",
      "  2.35755367  2.70714868  2.60351864  2.65791803  0.29888019  2.7675587\n",
      "  3.6807858   4.1904652 ]\n",
      "Regression line intercept= -2.397239589018484\n"
     ]
    }
   ],
   "source": [
    "#Performing Linear regression and calculating Accuracy\n",
    "from sklearn.linear_model import LinearRegression\n",
    "lreg = LinearRegression()\n",
    "lreg.fit(X_train, y_train)\n",
    "r2_score = lreg.score(X_test,y_test)\n",
    "print(\"Accuracy=\",r2_score*100,'%')\n",
    "#predicting test and train data\n",
    "train_prediction=lreg.predict(X_train)\n",
    "price_prediction=lreg.predict(X_test)\n",
    "print(price_prediction)\n",
    "print(\"Regression line intercept=\",lreg.intercept_)"
   ]
  },
  {
   "cell_type": "code",
   "execution_count": 42,
   "id": "40acc4f4",
   "metadata": {},
   "outputs": [
    {
     "name": "stdout",
     "output_type": "stream",
     "text": [
      "For Train data\n",
      "Mean Absolute Error:  2.3988002538375746\n",
      "Mean Square Error: 15.463935276461987\n",
      "Root Mean Square Error: 3.932421045165686\n",
      " \n",
      "For Test data\n",
      "Mean Absolute Error:  2.501052850884481\n",
      "Mean Square Error: 15.133083498534884\n",
      "Root Mean Square Error: 3.8901264116394576\n"
     ]
    }
   ],
   "source": [
    "#finding error values for prediction values of train data\n",
    "from sklearn import metrics\n",
    "print(\"For Train data\")\n",
    "print(\"Mean Absolute Error: \", metrics.mean_absolute_error(y_train,train_prediction))\n",
    "print(\"Mean Square Error:\", metrics.mean_squared_error(y_train,train_prediction))\n",
    "print(\"Root Mean Square Error:\", np.sqrt(metrics.mean_squared_error(y_train,train_prediction)))\n",
    "print(\" \")\n",
    "#finding error values for prediction values of test data\n",
    "print(\"For Test data\")\n",
    "print(\"Mean Absolute Error: \", metrics.mean_absolute_error(y_test,price_prediction))\n",
    "print(\"Mean Square Error:\", metrics.mean_squared_error(y_test,price_prediction))\n",
    "print(\"Root Mean Square Error:\", np.sqrt(metrics.mean_squared_error(y_test,price_prediction)))"
   ]
  },
  {
   "cell_type": "code",
   "execution_count": null,
   "id": "fa15c2b1",
   "metadata": {},
   "outputs": [],
   "source": []
  },
  {
   "cell_type": "code",
   "execution_count": null,
   "id": "8d80b94c",
   "metadata": {},
   "outputs": [],
   "source": []
  }
 ],
 "metadata": {
  "kernelspec": {
   "display_name": "Python 3 (ipykernel)",
   "language": "python",
   "name": "python3"
  },
  "language_info": {
   "codemirror_mode": {
    "name": "ipython",
    "version": 3
   },
   "file_extension": ".py",
   "mimetype": "text/x-python",
   "name": "python",
   "nbconvert_exporter": "python",
   "pygments_lexer": "ipython3",
   "version": "3.10.5"
  }
 },
 "nbformat": 4,
 "nbformat_minor": 5
}
